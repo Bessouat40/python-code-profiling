{
 "cells": [
  {
   "cell_type": "code",
   "execution_count": 1,
   "metadata": {},
   "outputs": [],
   "source": [
    "from profilerDecorator import profiler"
   ]
  },
  {
   "cell_type": "code",
   "execution_count": 2,
   "metadata": {},
   "outputs": [],
   "source": [
    "@profiler\n",
    "def functionToTest() :\n",
    "    compteur = 0\n",
    "    for i in range(1000) :\n",
    "        compteur +=1\n",
    "    return compteur"
   ]
  },
  {
   "cell_type": "code",
   "execution_count": 32,
   "metadata": {},
   "outputs": [],
   "source": [
    "import re\n",
    "\n",
    "def analyseResults() :\n",
    "    with open(\"./profilingResults.txt\", \"r\") as results :\n",
    "        profilingResults = results.read()\n",
    "    results = list(filter(lambda value : value != \"\", re.split(r'ncalls.*?\\(function\\)\\n', profilingResults)[1].split(\"\\n\")))\n",
    "    return profilingResults"
   ]
  },
  {
   "cell_type": "code",
   "execution_count": 10,
   "metadata": {},
   "outputs": [],
   "source": [
    "res = analyseResults()"
   ]
  },
  {
   "cell_type": "code",
   "execution_count": 33,
   "metadata": {},
   "outputs": [],
   "source": [
    "res2 = list(filter(lambda value : value != \"\", re.split(r'ncalls.*?\\(function\\)\\n', res)[1].split(\"\\n\")))"
   ]
  },
  {
   "cell_type": "code",
   "execution_count": null,
   "metadata": {},
   "outputs": [],
   "source": []
  }
 ],
 "metadata": {
  "kernelspec": {
   "display_name": "Python 3",
   "language": "python",
   "name": "python3"
  },
  "language_info": {
   "codemirror_mode": {
    "name": "ipython",
    "version": 3
   },
   "file_extension": ".py",
   "mimetype": "text/x-python",
   "name": "python",
   "nbconvert_exporter": "python",
   "pygments_lexer": "ipython3",
   "version": "3.11.1"
  },
  "orig_nbformat": 4
 },
 "nbformat": 4,
 "nbformat_minor": 2
}
